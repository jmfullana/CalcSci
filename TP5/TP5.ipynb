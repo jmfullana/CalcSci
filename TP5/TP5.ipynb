{
 "cells": [
  {
   "cell_type": "markdown",
   "id": "bf79ad6d",
   "metadata": {},
   "source": [
    "# The Laplacian operator\n",
    "\n",
    "In this practical work, we study the Laplacian operator\n",
    "\n",
    "$$ \\nabla^2 C,$$\n",
    "where $C$ is some scalar or vectorial field. \n",
    "\n",
    "The Laplacian operator is widely used in various fields such as physics, mathematics and engineering. Some equations involving this operator are:\n",
    "1. **Poisson's Equation**:\n",
    "      $$ \\nabla^2 \\phi = \\rho $$\n",
    "2. **Heat Equation**:\n",
    " $$ \\frac{\\partial T}{\\partial t} = \\alpha \\nabla^2 T, $$\n",
    "\n",
    "3. **Wave Equation**:\n",
    "  $$ \\frac{\\partial^2 u}{\\partial t^2} = c^2 \\nabla^2 u, $$\n",
    "\n",
    "4. **Schrödinger Equation**:\n",
    " $$ i\\hbar \\frac{\\partial \\psi}{\\partial t} = -\\frac{\\hbar^2}{2m} \\nabla^2 \\psi + V\\psi, $$\n",
    "\n",
    "5. **Laplace's Equation**:\n",
    "  $$ \\nabla^2 \\phi = 0 ,$$\n",
    " \n",
    "6. **Helmoltz equation**:\n",
    "$$ \\nabla (D \\nabla  A) - \\lambda A = B.$$\n",
    "   \n",
    "The objective here is to build a solver for a reaction-diffusion equation. The work is divided as follows : (i) study of the diffusion equation in 1D, (ii) study of the 2D Laplace equation 2D using iterative methods and (iii) study of the 2D Poisson-Helmholtz equation, for which we will write a solver directly useful for solving the reaction-diffusion equation."
   ]
  },
  {
   "cell_type": "markdown",
   "id": "bb08f63e",
   "metadata": {},
   "source": [
    "### Table of contents\n",
    "\n",
    "\n",
    "1. [Diffusion Equation in 1D](#diffusion-equation-in-1d)\n",
    "    1. [Analytical solution](#analytical-solution)\n",
    "    2. [Finite Differences Scheme : explicit method](#explicit_method)    \n",
    "    3. [Finite Differences Scheme : implicit method](#implicit_method)\n",
    "    4. [Compare Both Approaches](#compare-both-approaches)\n",
    "2. [Laplace Equation in 2D](#laplace-equation-in-2d)\n",
    "    1. [Jacobi Approach](#jacobi-approach)    \n",
    "    2. [Gauss-Seidel](#gauss-seidel)\n",
    "3. [Poisson-Helmholtz Equation](#poisson-helmholtz-equation)\n",
    "4. [Reaction-Diffusion Equation](#reaction-diffusion-equation)"
   ]
  },
  {
   "cell_type": "markdown",
   "id": "1e217bc0",
   "metadata": {},
   "source": [
    "## 1 Diffusion equation in 1D\n",
    " \n",
    "The equation describing the 1D diffusion of a chemical contaminant of concentration $C$ and diffusion coefficient $D$ is written \n",
    "   $$ \\frac{\\partial C}{\\partial t} = D \\frac{\\partial^2 C}{\\partial x^2} $$\n",
    "    \n",
    "The fluid domain is bounded by two absorbing walls located at $x=0$ and $x=L$, leading to the following boundary conditions : \n",
    "\n",
    "$$ C(0, t) = C(L, t)= 0 $$\n",
    "\n",
    "Furthermore, we assume the following initial condition: \n",
    "$$ C(x, 0) = \\sin(\\frac{\\pi x}{L})$$\n",
    " \n"
   ]
  },
  {
   "cell_type": "markdown",
   "id": "90eded9b",
   "metadata": {},
   "source": [
    "### 1.1 Analytical solution\n",
    "\n",
    "Using the Python library sympy verify that\n",
    "$$ C = \\exp\\left(-\\frac{D\\pi^2 t}{L^2}\\right)\\sin\\left(\\frac{\\pi x}{L}\\right)$$\n",
    "is a solution and represent it on a plot at different times. \n"
   ]
  },
  {
   "cell_type": "code",
   "execution_count": 1,
   "id": "64ad1973",
   "metadata": {},
   "outputs": [],
   "source": [
    "import sympy as sp\n",
    "import matplotlib.pyplot as plt\n",
    "import numpy as np\n",
    "import scipy.sparse as sps\n",
    "from scipy.sparse import diags\n",
    "from scipy.sparse.linalg import spsolve"
   ]
  },
  {
   "cell_type": "markdown",
   "id": "f750299f",
   "metadata": {},
   "source": [
    "### 1.2 Finite Difference scheme : explicit method\n",
    "\n",
    "In the finite differences scheme, we discretize the spatial and temporal domains to approximate the derivatives in the heat equation.\n",
    "The spatial domain is divided into $N_x$ grid points with spacing $dx$, and the time domain is divided into $N_t$ time steps with spacing $ dt $.\n",
    "\n",
    "\n",
    "\n",
    "Using finite differences, the second-order spatial derivative can be approximated as:\n",
    "\n",
    "$$ \\frac{\\partial^2 C}{\\partial x^2} \\approx \\frac{C_{i-1} - 2C_i + C_{i+1}}{\\Delta_x ^2} $$\n",
    "\n",
    "The forward Euler method is used for the time derivative:\n",
    "   \n",
    "$$ \\frac{\\partial C}{\\partial t} \\approx \\frac{C^{n+1} - C^n}{\\Delta t} $$\n",
    "\n",
    "Combining these approximations, the concentration at time $t_{n+1}$ is expressed as a function of the concentration field at time $t_n$ (explicit method) as:\n",
    "\n",
    "$$ C_i^{n+1} = C_i^n + \\frac{D  \\Delta t}{\\Delta_x ^2} \\left( C_{i-1}^n - 2C_i^n + C_{i+1}^n  \\right) $$\n",
    "where $C_i^n$ is the concentration at spatial position $x_i$ and time $ t_n $\n",
    " "
   ]
  },
  {
   "cell_type": "markdown",
   "id": "86f9a176",
   "metadata": {},
   "source": [
    "Q1: Write a function ```rhs_centered(C,dx, D)``` where $C$ is the concentration array at the current-time step, that returns the right-hand side of the 1D diffusion equation based on centered finite differences. Be  careful to impose the correct boundary conditions. "
   ]
  },
  {
   "cell_type": "markdown",
   "id": "e1e29046",
   "metadata": {},
   "source": [
    "Q2: Write a function ```euler_step(C, f, dt, dx, D)``` that returns the concentration field $C(x, t+dt)$ given the concentration field $C(x, t)$, where $f(C, dx, D)$ is the right-hand side of the 1D diffusion equation based on centered finite differences. "
   ]
  },
  {
   "cell_type": "markdown",
   "id": "db637f6e",
   "metadata": {},
   "source": [
    "Q3: Write a function ```exact_solution(x,t,D, L)```returning the exact analytical solution. "
   ]
  },
  {
   "cell_type": "markdown",
   "id": "b62b2206",
   "metadata": {},
   "source": [
    "Q4: Solve the 1D diffusion equation using the explicit finite difference scheme. Compare with the analytical solution. "
   ]
  },
  {
   "cell_type": "markdown",
   "id": "f7908af4",
   "metadata": {},
   "source": [
    "### 1.3 Finite difference scheme : implicit method\n",
    "\n",
    "This time, we use a backward Euler method for the time derivative. Combining with the centered finite difference approximation of the right-hand side of the 1D diffusion equation: \n",
    " \n",
    "$$ C_i^{n+1} - \\frac{D \\Delta t}{\\Delta x^2} \\left( C_{i-1}^{n+1} - 2C_i^{n+1} + C_{i+1}^{n+1} \\right) = C_i^n $$\n",
    "\n",
    "This can be rearranged into a system of linear equations:\n",
    "$$ \\left( 1 + 2\\frac{D \\Delta t}{\\Delta x^2} \\right) C_i^{n+1} - \\frac{D \\Delta t}{\\Delta x^2} \\left( C_{i-1}^{n+1} + C_{i+1}^{n+1} \\right) = C_i^n $$\n",
    "\n",
    "It can be put into the matrix form $A x = b$, where $x=C^{n+1}$ and $b=C^n$."
   ]
  },
  {
   "cell_type": "markdown",
   "id": "4a6af3e6",
   "metadata": {},
   "source": [
    "Q1: Write a function ```matrix_implicit(D, dt, dx)```than returns the sparse matrix A. "
   ]
  },
  {
   "cell_type": "markdown",
   "id": "8de399cd",
   "metadata": {},
   "source": [
    "Q2: Solve the 1D diffusion equation using the implicit finite difference scheme (use ```spsolve```) and compare with the analytical solution. "
   ]
  },
  {
   "cell_type": "markdown",
   "id": "044feab4",
   "metadata": {},
   "source": [
    "### 1.4 Compare both approaches\n",
    "\n",
    "Compare the explicit and implicit methods and perform a stability analysis (by varying the time step $dt$).  "
   ]
  },
  {
   "cell_type": "markdown",
   "id": "5c65c27b",
   "metadata": {},
   "source": [
    "## 2 Laplace equation in 2D\n",
    "\n",
    "Inverting matrices for solving the diffusion equation in 2D can be complicated, we propose then to study some iterative approaches.\n",
    "\n",
    "We study first the 2D Laplace equation \n",
    "$$ \\nabla^2 C = \\frac{\\partial^2 C}{\\partial x^2} + \\frac{\\partial^2 C}{\\partial y^2}=0 $$\n",
    "\n",
    "and we consider the fluid domain $[0, 1] \\times [0, 1]$. The boundary conditions are: \n",
    "$$ C(x=0, y)=y, \\quad C(x=1, y)=y-1, \\quad C(x, y=0)=-y, \\quad C(x, y=1)=1-y$$. \n",
    "\n",
    "The 5-point Laplacian is a finite difference approximation of the Laplace operator in two dimensions. It is commonly used in numerical methods to solve partial differential equations such as the Poisson equation. \n",
    "\n",
    "\n",
    "Using the 5-point stencil, the discrete approximation of the Laplacian at a grid point $(i, j)$ is\n",
    "\n",
    "$$ \\nabla^2 C_{i,j} \\approx \\frac{C_{i+1,j} - 2C_{i,j} + C_{i-1,j}}{\\Delta x^2} + \\frac{C_{i,j+1} - 2C_{i,j} + C_{i,j-1}}{\\Delta y^2} $$\n",
    "   \n",
    "For a uniform grid where $\\Delta x = \\Delta y = h$, this simplifies to:\n",
    "  \n",
    "$$ \\nabla^2 C_{i,j} \\approx \\frac{C_{i+1,j} + C_{i-1,j} + C_{i,j+1} + C_{i,j-1} - 4C_{i,j}}{h^2} $$\n",
    "\n",
    "This formula is used to approximate the second derivatives in the Laplace equation, providing a way to discretize the equation for numerical solutions.\n",
    "The iterative process is\n",
    "$$ C_{i,j} = \\frac{1}{4} ( C_{i+1,j} + C_{i-1,j} + C_{i,j+1} + C_{i,j-1} ) $$\n",
    " "
   ]
  },
  {
   "cell_type": "markdown",
   "id": "1f21d667",
   "metadata": {},
   "source": [
    "### 2.1 Jacobi approach\n",
    "\n",
    "Q1: First define a function ```jacobi(grid)``` that returns a new concentration field from an initial field ```grid```using the iterative process: \n",
    "$$ C_{i,j} = \\frac{1}{4} ( C_{i+1,j} + C_{i-1,j} + C_{i,j+1} + C_{i,j-1} ) $$\n",
    "Don't forget to copy the boundary conditions of the initial field. \n"
   ]
  },
  {
   "cell_type": "markdown",
   "id": "59884c7d",
   "metadata": {},
   "source": [
    "Q2: Define a function ```boundary(grid)```that imposes the required boundary conditions on a given ```grid```. "
   ]
  },
  {
   "cell_type": "markdown",
   "id": "abdac3e7",
   "metadata": {},
   "source": [
    "Q3: Define a function ```initgrid(gridsize)``` that randomly initializes a grid of size ```gridsize```x ```gridsize```. You may use the function ```np.random.randn```. Don't forget to impose the required boundary conditions. \n"
   ]
  },
  {
   "cell_type": "markdown",
   "id": "f8cfc69d",
   "metadata": {},
   "source": [
    "Q4: Solve the 2D Laplace equation on a grid of size $25\\times 25$ and represent the solution at different iteration stops.  To represent the solution, you may run first the following cell and use the function ```showsol(grid)```. "
   ]
  },
  {
   "cell_type": "code",
   "execution_count": 2,
   "id": "56d28822",
   "metadata": {},
   "outputs": [],
   "source": [
    "import matplotlib as ml\n",
    "def showsol(sol):\n",
    "    plt.imshow(sol.T,cmap=ml.cm.Blues,interpolation='none',origin='lower')\n",
    "    cbar=plt.colorbar()\n",
    "    cbar.set_label('C(x,y)')"
   ]
  },
  {
   "cell_type": "markdown",
   "id": "2aff3529",
   "metadata": {},
   "source": [
    "Q5: Perform a convergence analysis by calculating the error at each iteration, computed as the difference between the norm of the final solution (obtained after many iterations) and the one of the current grid.  "
   ]
  },
  {
   "cell_type": "markdown",
   "id": "72a43bba",
   "metadata": {},
   "source": [
    "### 2.2 Gauss-Seidel approach \n",
    "\n",
    "We now turn to the Gauss-Seidel method. Starting with an initial guess for $C$ it updates the solution at each grid point using the formula above. The key idea of Gauss-Seidel is that each time a grid point $C(i, j)$ is updated, the new value is immediately used in subsequent updates within the same iteration. This makes the method faster to converge compared to the Jacobi method, which updates all points after a full sweep of the grid."
   ]
  },
  {
   "cell_type": "markdown",
   "id": "ef1939f1",
   "metadata": {},
   "source": [
    "Q1: Define a function ```gauss-seidel(grid)```that returns the grid updated with a Gauss-Seidel method. "
   ]
  },
  {
   "cell_type": "markdown",
   "id": "ffce43f5",
   "metadata": {},
   "source": [
    "Q2:  Perform a convergence analysis and compare with the Jacobi method. "
   ]
  },
  {
   "cell_type": "markdown",
   "id": "02f33166",
   "metadata": {},
   "source": [
    "## 3 The Poisson-Helmholtz equation \n",
    "\n",
    "The Poisson-Helmholtz equation is a partial differential equation that combines aspects of both the Poisson and Helmholtz equations. It is commonly used in various fields such as physics and engineering to describe phenomena like wave propagation, electrostatics, and heat conduction.\n",
    "\n",
    "The general form of the Poisson-Helmholtz equation is:\n",
    "$$ \\nabla (D \\nabla  A) - \\lambda A = B$$\n",
    "where $A$ is a scalar field, $D$ is the diffusion coefficient, $\\lambda$ is a constant and $B$ is the source term.  \n",
    "\n",
    "In the context of numerical methods, solving the Poisson-Helmholtz equation typically involves discretizing the equation using finite difference or finite element methods and then solving the resulting system of linear equations.\n",
    "  \n",
    "We aim at solving the Poisson-Helmoltz equation in 2D. To do so, we will assume a constant diffusion coefficient $D$. Under this assumption, the equation can be discretized as follow: \n",
    "\n",
    "$$ D  (A_{i+1,j} + A_{i-1,j} + A_{i,j+1} + A_{i,j-1} - 4 A_{i,j}) - \\lambda  A_{i,j} =  B_{i,j}$$\n",
    "\n",
    "The iterative algorithm is then:\n",
    " $$ A_{i,j} = {- B_{i,j} + D  (A_{i+1,j} + A_{i-1,j} + A_{i,j+1} + A_{i,j-1}) \\over 4 D + \\lambda}$$\n",
    " \n",
    "  "
   ]
  },
  {
   "cell_type": "markdown",
   "id": "34b2787b",
   "metadata": {},
   "source": [
    "Q1: Define a function ```poisson_helmoltz_jacobi(u,D,l,b)```that, given a grid $u$, returns the updated grid by implementing the above iterative algorithm, with the Jacobi method. "
   ]
  },
  {
   "cell_type": "markdown",
   "id": "84c58305",
   "metadata": {},
   "source": [
    "Q2: Solve the equation for $\\lambda=0$ and $B=0$ and the same initial and boundary conditions as used to solve the 2D Laplace equation. Make sure you obtain the same results than previously, by plotting the solution after various iteration numbers and comparing with the plots obtained solving the Laplace equation. "
   ]
  },
  {
   "cell_type": "markdown",
   "id": "f86f759a",
   "metadata": {},
   "source": [
    "Q3: Define a function ```poisson_helmoltz_gs(u,D,l,b)```that, given a grid $u$, returns the updated grid by implementing the above iterative algorithm, with the Gauss-Seidel method. "
   ]
  },
  {
   "cell_type": "markdown",
   "id": "aad4b5cb",
   "metadata": {},
   "source": [
    "Q4: Perform a convergence analysis and compare both methods in the case of the 2D Poisson-Helmholtz equation. You may use $\\lambda=0.1$ and $B$ corresponding to a point source located at coordinates $(0.5, 0.5)$. "
   ]
  },
  {
   "cell_type": "markdown",
   "id": "9a381826",
   "metadata": {},
   "source": [
    "## 4 Reaction-Diffusion equation\n",
    "\n",
    "The general reaction-diffusion equation reads:\n",
    "$$ \\frac{\\partial C}{\\partial t} = D \\nabla^2 C + \\beta C + R, $$\n",
    "where $R$ is a source term and $\\beta$ is a growth rate of the substance of concentration $C$. \n",
    "\n",
    "This equation can be discretized into :\n",
    "$$ \\frac{C^{n+1} - C^n}{\\Delta t} =  D \\nabla^2 C^{n+1} + \\beta C^{n+1} + R$$ \n",
    "\n",
    "We can write it in a Poisson-Helmoltz form: \n",
    "$$ D \\nabla^2 C^{n+1} + (\\beta  - \\frac{1}{dt}) C^{n+1} = - \\frac{1}{dt} C^n - R $$\n",
    "Thus, noting $\\lambda = \\beta  - \\frac{1}{dt}$ and $B =  -\\frac{1}{dt} C^n - R $, the discrtized reaction diffusion equation writes: \n",
    " \n",
    "  $$ D \\nabla^2 C^{n+1} + \\lambda C^{n+1} = B$$\n",
    "  \n",
    "Thus, you have now an algorithm to solve reaction-diffusion problems in 2D ! \n",
    " "
   ]
  },
  {
   "cell_type": "code",
   "execution_count": null,
   "id": "4cfee98e",
   "metadata": {},
   "outputs": [],
   "source": []
  }
 ],
 "metadata": {
  "kernelspec": {
   "display_name": "Python 3 (ipykernel)",
   "language": "python",
   "name": "python3"
  },
  "language_info": {
   "codemirror_mode": {
    "name": "ipython",
    "version": 3
   },
   "file_extension": ".py",
   "mimetype": "text/x-python",
   "name": "python",
   "nbconvert_exporter": "python",
   "pygments_lexer": "ipython3",
   "version": "3.11.3"
  }
 },
 "nbformat": 4,
 "nbformat_minor": 5
}
