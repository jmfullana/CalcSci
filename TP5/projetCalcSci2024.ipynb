{
 "cells": [
  {
   "cell_type": "code",
   "execution_count": null,
   "metadata": {},
   "outputs": [],
   "source": []
  },
  {
   "cell_type": "markdown",
   "metadata": {},
   "source": [
    "# Projet CalcSci 2024"
   ]
  },
  {
   "cell_type": "markdown",
   "metadata": {},
   "source": [
    "\n",
    "## Projet\n",
    "\n",
    "The main idea is to apply the Laplacian implementation you've done on theoretical models from actual research topics\n",
    "1. **Choose the Problem**:\n",
    "    - Choose between the topics bellow.\n",
    "    ### Topics:\n",
    "    - **Interface Growth**: Study the KPZ equation and its applications.\n",
    "    - **Porous Media**: Explore Darcy's Law and Richard's equation.\n",
    "    - **Turing Patterns**: Investigate the Brusselator model and pattern formation.\n",
    "    - **Bacterial Pattern Formation**: Analyze reaction-diffusion systems in bacterial colonies.\n",
    "\n",
    "\n",
    "2. **Literature**:\n",
    "    - Start reading the pdf associated\n",
    "    - Identify the problem, the key variables and parameters.\n",
    "\n",
    "3. **Mathematical Modeling**:\n",
    "    - Define the mathematical model to describe the problem.\n",
    "    - Write down the governing equations and boundary conditions.\n",
    "\n",
    "4. **Discretization**:\n",
    "    - Write the discrete model using information from TP5\n",
    "    - Define the computational grid or mesh.\n",
    "\n",
    "5. **Verification**:\n",
    "    - If possible verify the numerical implementation by comparing with simple analytical solutions or known data.\n",
    "\n",
    "7. **Simulation**:\n",
    "    - Define a plan of numerical simulations\n",
    "    - Pay attention to time you have and technical difficulties\n",
    "    - Do it\n",
    "\n",
    "8. **Analysis**:\n",
    "    - Analyze the simulation results.\n",
    "    - Think about how to present results \n",
    "\n",
    "9. **Documentation**:\n",
    "     - Write a Notebook "
   ]
  },
  {
   "cell_type": "markdown",
   "metadata": {},
   "source": [
    "## 1 - Interface growth"
   ]
  },
  {
   "cell_type": "markdown",
   "metadata": {},
   "source": [
    "The KPZ (Kardar-Parisi-Zhang) equation is a fundamental stochastic partial differential equation used to describe the growth of interfaces. It is given by:\n",
    "\n",
    "$$\n",
    "\\frac{\\partial h(x,t)}{\\partial t} = \\nu \\nabla^2 h(x,t) + \\frac{\\lambda}{2} (\\nabla h(x,t))^2 + \\eta(x,t)\n",
    "$$\n",
    "where\n",
    "1. **$ h(x,t) $**: Represents the height of the interface at position $ x $ and time $ t $.\n",
    "2. **$ \\nu \\nabla^2 h(x,t) $**: This term represents the smoothing or diffusion of the interface. The coefficient $ \\nu $ controls the rate of this diffusion.\n",
    "3. **$ \\frac{\\lambda}{2} (\\nabla h(x,t))^2 $**: This nonlinear term accounts for the lateral growth of the interface. The coefficient $ \\lambda $ determines the strength of this effect.\n",
    "4. **$ \\eta(x,t) $**: Represents Gaussian white noise, modeling random fluctuations in the growth process.\n",
    "\n",
    "\n",
    " The KPZ equation is widely used to model the growth of surfaces and interfaces in various physical systems, such as crystal growth, bacterial colony expansion, and flame fronts. It is used also to model the growth of biological tissues and the spread of populations, where the interface represents the boundary of the growing tissue or population. In the case of materials science, the KPZ equation can describe the deposition of polymers on surfaces, where the interface represents the height of the deposited layer.\n",
    "\n",
    "### Projet:\n",
    "- Build a discrete model to compare to KPZ equation\n",
    "- Do a numerical approach of the KPZ equation (attention with the non linear term !)\n",
    "- Analyse 1D and 2D numerical simulations\n",
    "\n",
    "### References\n",
    "<a href=\"../PDF/KPZ.pdf\"> 1- V. G. Miranda and F D. A. Aarao Reis, 2018, arXiv, Numerical study of the Kardar-Parisi-Zhang equation\n",
    " </a>\n",
    "\n",
    "<a href=\"../PDF/[Barabasi_A.-L.,_Stanley_H.E.]-DiscreteModels.pdf\"> 2- Discrete Models (Chapter of Barabasi & Stanley)</a>"
   ]
  },
  {
   "cell_type": "markdown",
   "metadata": {
    "vscode": {
     "languageId": "html"
    }
   },
   "source": [
    "<img src=\"../PDF/lattice.png\"  width=\"300\" />"
   ]
  },
  {
   "cell_type": "markdown",
   "metadata": {},
   "source": [
    "## 2 Porous media\n",
    "\n",
    "The Darcy equation is a fundamental principle in fluid dynamics, particularly in the study of porous media. It describes the flow of a fluid through a porous medium and is analogous to the diffusion equation in many ways.\n",
    "\n",
    "### Darcy's Law\n",
    "Darcy's Law can be expressed as:\n",
    "$$ \\mathbf{q} = -\\frac{k}{\\mu}  \\mathbf{\\nabla} P $$\n",
    "where:\n",
    "- $\\mathbf{q}$ is the volumetric flux (flow rate per unit area).\n",
    "- $k$ is the permeability of the porous medium.\n",
    "- $\\mu$ is the dynamic viscosity of the fluid.\n",
    "- $ \\mathbf{\\nabla} P$ is the pressure gradient.\n",
    "\n",
    "In case of fluid flow in through soil and groundwater the pressure can splits in two terms to take into account gravity  giving $P = p - \\rho \\mathbf{g} z$, then\n",
    "generalized Darcy's Law is :\n",
    "$$ \\mathbf{q} = -\\frac{k}{\\mu} ( \\mathbf{\\nabla} p - \\rho  \\mathbf{g})$$\n",
    "\n",
    "If we define  $\\theta$ as volumetric water content we get the Richard's equation bellow\n",
    "\n",
    "$$ \\frac{\\partial \\theta}{\\partial t} =   \\mathbf{\\nabla} \\cdot \\left( \\frac{k(\\theta)}{\\mu}   \\mathbf{\\nabla p} \\right) $$\n",
    "\n",
    "\n",
    "\n",
    "The applications of Darcy's Law are very large : Groundwater Flow, Petroleum Engineering, Hydrology among others. In Environmental Engineering it is used in the study of contaminant transport through soil and groundwater.\n",
    "\n",
    "### Projet:\n",
    "- Study the origin of the Richard's equation et define the parameters\n",
    "- we want to analyse non homogenous configurations doing some kind of homogenization approach (attention the diffusion coefficient is not constant!)\n",
    "- Do a numerical approach of the Richard's equation \n",
    "- Analyse 1D and 2D numerical simulations\n",
    "\n",
    "\n",
    "### References\n",
    "\n",
    "<a href=\"http://arbennett.github.io/numerical-methods,/hydrology/2017/12/12/richards_eq.html\"> 1- Richard's equation</a>\n",
    "\n",
    "<a href=\"../PDF/solvingRichardsEquation.pdf\"> 2- A simple, efficient, mass-conservative approach to solving Richards’ equation (openRE, v1.0), A. M. Ireson et al.</a>\n"
   ]
  },
  {
   "cell_type": "markdown",
   "metadata": {},
   "source": [
    "## 3 Turing patterns\n",
    "Some chemical systems out of equilibrium undergo a spatial symmetry breaking, leading to stationary pattern formation \n",
    "on macroscopic scales. The new stationary states form periodic concentration structures with a wavelength independent \n",
    "of the reactor geometry, the so-called Turing patterns.\n",
    "\n",
    "The Brusselator model is a theoretical model for a type of autocatalytic reaction. The equations for the Brusselator are given by:\n",
    "\n",
    "$$\n",
    "\\frac{\\partial A}{\\partial t} = 1 + A^2B - (B + 1)A + D_A \\nabla^2 A\n",
    "$$\n",
    "\n",
    "$$\n",
    "\\frac{\\partial B}{\\partial t} = BA - A^2B + D_B \\nabla^2 B\n",
    "$$\n",
    "\n",
    "where:\n",
    "- $ A $ and $B$ are the concentrations of the chemical species.\n",
    "- $ D_A $ and $ D_B $ are the diffusion coefficients."
   ]
  },
  {
   "cell_type": "markdown",
   "metadata": {},
   "source": [
    "### Projet\n",
    "- Study the origin of the Brusselator model and  define the parameters\n",
    "- Do a numerical approach of the coupled equations\n",
    "- In diffusion equation and coupled models we can do\n",
    "    - stability analyse\n",
    "    - phase diagrammes \n",
    "\n",
    "### References\n",
    "<a href=\"../PDF/Stability_of_Turing_patterns_in_the_Brusselator_mo.pdf\"> 1- B. Peña & C. Pérez-Garcı́a (2001). *Stability of Turing patterns in the Brusselator model*. Physical Review E, 64, 056213.</a>\n",
    "\n",
    "\n"
   ]
  },
  {
   "cell_type": "markdown",
   "metadata": {},
   "source": [
    "\n",
    "## 4 Bacterial Pattern Formation\n",
    "\n",
    "Bacterial pattern formation can be modeled using reaction-diffusion systems. These systems describe how the concentration of one or more substances \n",
    "distributed in space changes under the influence of two processes: local chemical reactions and diffusion.\n",
    "Spatial patterns which are formed by some kinds of bacterial colonies present an interesting structure during their growth\n",
    "conditions. In particular, colonies of bacterium bacillus can present a rich variety of structures,and the nature\n",
    "of the pattern exhibited depends on the particular bacterial species used and the environmental conditions \n",
    "\n",
    "### Reaction-Diffusion Equations\n",
    "\n",
    "The general form of reaction-diffusion equations is:\n",
    "$$ \\frac{\\partial u}{\\partial t} = D_u \\nabla^2 u + f(u, v) $$\n",
    "$$ \\frac{\\partial v}{\\partial t} = D_v \\nabla^2 v + g(u, v) $$\n",
    "\n",
    "where:\n",
    "- $ u $ and $ v $ are the concentrations of the substances,\n",
    "- $ D_u $ and $ D_v $ are the diffusion coefficients,\n",
    "- $ f(u, v) $ and $ g(u, v) $ represent the local reaction kinetics.\n",
    "\n",
    "\n",
    "\n",
    "\n",
    "Understanding bacterial pattern formation has lot of applications in Developmental biology, Ecology or Medical research.\n",
    "\n",
    "### Projet\n",
    "- Study the origin of the reaction-diffusion model for Bacterial Pattern Formation and define the parameters\n",
    "- Perform numerical simulations of the reaction-diffusion equations\n",
    "- Analyze the resulting patterns and if possible compare them with experimental observations or former results\n",
    "\n",
    "### References\n",
    "<a href=\"../PDF/bacteries_patterns.pdf\"> 1- Bacteria Patterns</a>\n",
    "\n",
    "<a href=\"../PDF/bacteries.pdf\"> 2 - \n",
    "V. Bucur and B.r Vasiev, arXiv, 2024, Modelling formation of stationary periodic patterns in growing\n",
    "population of motile bacteria</a>\n",
    "\n"
   ]
  },
  {
   "cell_type": "markdown",
   "metadata": {},
   "source": []
  }
 ],
 "metadata": {
  "kernelspec": {
   "display_name": "base",
   "language": "python",
   "name": "python3"
  },
  "language_info": {
   "codemirror_mode": {
    "name": "ipython",
    "version": 3
   },
   "file_extension": ".py",
   "mimetype": "text/x-python",
   "name": "python",
   "nbconvert_exporter": "python",
   "pygments_lexer": "ipython3",
   "version": "3.11.5"
  }
 },
 "nbformat": 4,
 "nbformat_minor": 2
}
