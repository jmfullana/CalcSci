{
 "cells": [
  {
   "cell_type": "code",
   "execution_count": null,
   "metadata": {},
   "outputs": [],
   "source": []
  },
  {
   "cell_type": "markdown",
   "metadata": {},
   "source": [
    "# Projet CalcSci 2024"
   ]
  },
  {
   "cell_type": "markdown",
   "metadata": {},
   "source": [
    "## Interfaces growth\n",
    "See Barabasi et al \n",
    "- Edwards-Wilkingson equation\n",
    "The Edwards-Wilkingson is given \n",
    "$$ \\frac{\\partial h(x,t)}{\\partial t} = \\nu \\nabla^2 h(x,t) + \\eta(x,t) $$\n",
    "where $h(x,t)$ is the height of the interface, $\\nu$ a diffusion coefficient, and \n",
    "$\\eta(x,t)$ represents a Gaussian white noise term\n",
    "- KPZ equation\n",
    "Th KPZ (Kardar-Parisi-Zhang) is given by\n",
    "$$ \\frac{\\partial h(x,t)}{\\partial t} = \\nu \\nabla^2 h(x,t) + \\frac{\\lambda}{2} (\\nabla h(x,t))^2 + \\eta(x,t) $$"
   ]
  },
  {
   "cell_type": "markdown",
   "metadata": {},
   "source": [
    "## Porous media\n",
    "See Darcy equation\n",
    "- homogenization \n",
    "- effective coefficients"
   ]
  },
  {
   "cell_type": "markdown",
   "metadata": {},
   "source": [
    "## Turin patterns"
   ]
  },
  {
   "cell_type": "markdown",
   "metadata": {},
   "source": [
    "See diffusion equation and coupled models\n",
    "- stability analyse\n",
    "- phase diagrammes "
   ]
  },
  {
   "cell_type": "markdown",
   "metadata": {},
   "source": [
    "# Bacterial "
   ]
  },
  {
   "cell_type": "markdown",
   "metadata": {},
   "source": [
    "\n",
    "## Model for Bacterial Pattern Formation\n",
    "\n",
    "Bacterial pattern formation can be modeled using reaction-diffusion systems. These systems describe how the concentration of one or more substances distributed in space changes under the influence of two processes: local chemical reactions and diffusion.\n",
    "\n",
    "### Reaction-Diffusion Equations\n",
    "\n",
    "The general form of reaction-diffusion equations is:\n",
    "$$ \\frac{\\partial u}{\\partial t} = D_u \\nabla^2 u + f(u, v) $$\n",
    "$$ \\frac{\\partial v}{\\partial t} = D_v \\nabla^2 v + g(u, v) $$\n",
    "\n",
    "where:\n",
    "- \\( u \\) and \\( v \\) are the concentrations of the substances,\n",
    "- \\( D_u \\) and \\( D_v \\) are the diffusion coefficients,\n",
    "- \\( f(u, v) \\) and \\( g(u, v) \\) represent the local reaction kinetics.\n",
    "\n",
    "### Example: Turing Patterns\n",
    "\n",
    "Turing patterns arise when a stable homogeneous state becomes unstable due to diffusion-driven instability. This can be described by the following equations:\n",
    "$$ \\frac{\\partial u}{\\partial t} = D_u \\nabla^2 u + u(1 - u) - v $$\n",
    "$$ \\frac{\\partial v}{\\partial t} = D_v \\nabla^2 v + u - v $$\n",
    "\n",
    "These equations can produce a variety of spatial patterns depending on the parameters \\( D_u \\), \\( D_v \\), and the initial conditions.\n",
    "\n",
    "### Applications\n",
    "\n",
    "Understanding bacterial pattern formation has applications in:\n",
    "- Developmental biology\n",
    "- Ecology\n",
    "- Medical research\n",
    "\n",
    "By studying these models, researchers can gain insights into the mechanisms behind pattern formation in bacterial colonies and other biological systems."
   ]
  },
  {
   "cell_type": "markdown",
   "metadata": {},
   "source": []
  }
 ],
 "metadata": {
  "language_info": {
   "name": "python"
  }
 },
 "nbformat": 4,
 "nbformat_minor": 2
}
