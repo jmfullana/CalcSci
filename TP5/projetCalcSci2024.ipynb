{
 "cells": [
  {
   "cell_type": "code",
   "execution_count": null,
   "metadata": {},
   "outputs": [],
   "source": []
  },
  {
   "cell_type": "markdown",
   "metadata": {},
   "source": [
    "# Projet CalcSci 2024"
   ]
  },
  {
   "cell_type": "markdown",
   "metadata": {},
   "source": [
    "\n",
    "## Projet\n",
    "\n",
    "1. **Choose the Problem**:\n",
    "    - Choose between the topics bellow.\n",
    "\n",
    "2. **Literature**:\n",
    "    - Start reading the pdf associated\n",
    "    - Identify the problem, the key variables and parameters.\n",
    "\n",
    "3. **Mathematical Modeling**:\n",
    "    - Define the mathematical model to describe the problem.\n",
    "    - Write down the governing equations and boundary conditions.\n",
    "\n",
    "4. **Discretization**:\n",
    "    - Write the discrete model using information from TP5\n",
    "    - Define the computational grid or mesh.\n",
    "\n",
    "5. **Verification**:\n",
    "    - Verify the implementation by comparing with simple analytical solutions or known data.\n",
    "\n",
    "7. **Simulation**:\n",
    "    - Define a plan of numerical simulations\n",
    "    - Pay attention to time you have and technical difficulties\n",
    "\n",
    "8. **Analysis**:\n",
    "    - Analyze the simulation results.\n",
    "\n",
    "9. **Documentation**:\n",
    "     - Write a Notebook "
   ]
  },
  {
   "cell_type": "markdown",
   "metadata": {},
   "source": [
    "## 1 - Interface growth"
   ]
  },
  {
   "cell_type": "markdown",
   "metadata": {},
   "source": [
    "The KPZ (Kardar-Parisi-Zhang) equation is a fundamental stochastic partial differential equation used to describe the growth of interfaces. It is given by:\n",
    "\n",
    "$$\n",
    "\\frac{\\partial h(x,t)}{\\partial t} = \\nu \\nabla^2 h(x,t) + \\frac{\\lambda}{2} (\\nabla h(x,t))^2 + \\eta(x,t)\n",
    "$$\n",
    "\n",
    "### Components of the KPZ Equation:\n",
    "1. **\\( h(x,t) \\)**: Represents the height of the interface at position \\( x \\) and time \\( t \\).\n",
    "2. **\\( \\nu \\nabla^2 h(x,t) \\)**: This term represents the smoothing or diffusion of the interface. The coefficient \\( \\nu \\) controls the rate of this diffusion.\n",
    "3. **\\( \\frac{\\lambda}{2} (\\nabla h(x,t))^2 \\)**: This nonlinear term accounts for the lateral growth of the interface. The coefficient \\( \\lambda \\) determines the strength of this effect.\n",
    "4. **\\( \\eta(x,t) \\)**: Represents Gaussian white noise, modeling random fluctuations in the growth process.\n",
    "\n",
    "### Applications of the KPZ Equation:\n",
    "1. **Surface Growth**: The KPZ equation is widely used to model the growth of surfaces and interfaces in various physical systems, such as crystal growth, bacterial colony expansion, and flame fronts.\n",
    "2. **Fluid Flow in Porous Media**: It can describe the movement of fluids through porous materials, where the interface between the fluid and the medium evolves over time.\n",
    "3. **Traffic Flow**: The KPZ equation has applications in modeling traffic flow, where the height function can represent the density of cars, and the equation describes how this density evolves.\n",
    "4. **Biological Systems**: It is used to model the growth of biological tissues and the spread of populations, where the interface represents the boundary of the growing tissue or population.\n",
    "5. **Polymer Deposition**: In materials science, the KPZ equation can describe the deposition of polymers on surfaces, where the interface represents the height of the deposited layer.\n",
    "\n",
    "### Key Features:\n",
    "- **Universality Class**: The KPZ equation belongs to a universality class of growth processes, meaning that many different physical systems with similar growth dynamics can be described by this equation.\n",
    "- **Scaling Properties**: The KPZ equation exhibits specific scaling properties, where the roughness of the interface grows with time following a power law.\n",
    "\n",
    "Understanding the KPZ equation and its applications provides valuable insights into the behavior of complex systems where growth and fluctuations play a crucial role."
   ]
  },
  {
   "cell_type": "markdown",
   "metadata": {
    "vscode": {
     "languageId": "html"
    }
   },
   "source": [
    "<img src=\"../PDF/lattice.png\"  width=\"300\" />"
   ]
  },
  {
   "cell_type": "markdown",
   "metadata": {},
   "source": [
    "## Porous media\n",
    "See Darcy equation\n",
    "- homogenization \n",
    "- effective coefficients\n"
   ]
  },
  {
   "cell_type": "markdown",
   "metadata": {},
   "source": [
    "The Darcy equation is a fundamental principle in fluid dynamics, particularly in the study of porous media. It describes the flow of a fluid through a porous medium and is analogous to the diffusion equation in many ways.\n",
    "\n",
    "### Darcy's Law\n",
    "Darcy's Law can be expressed as:\n",
    "$$ \\mathbf{q} = -\\frac{k}{\\mu} \\nabla P $$\n",
    "where:\n",
    "- \\(\\mathbf{q}\\) is the volumetric flux (flow rate per unit area).\n",
    "- \\(k\\) is the permeability of the porous medium.\n",
    "- \\(\\mu\\) is the dynamic viscosity of the fluid.\n",
    "- \\(\\nabla P\\) is the pressure gradient.\n",
    "\n",
    "### Diffusion Modeling Analogy\n",
    "In diffusion modeling, Fick's law describes the flux of particles due to concentration gradients:\n",
    "$$\\mathbf{J} = -D \\nabla C $$\n",
    "where:\n",
    "- \\(\\mathbf{J}\\) is the diffusion flux.\n",
    "- \\(D\\) is the diffusion coefficient.\n",
    "- \\(\\nabla C\\) is the concentration gradient.\n",
    "\n",
    "The analogy between Darcy's Law and Fick's Law lies in the similarity of their forms. Both describe a flux driven by a gradient (pressure for Darcy's Law and concentration for Fick's Law) and involve a proportionality constant (permeability/viscosity for Darcy's Law and diffusion coefficient for Fick's Law).\n",
    "\n",
    "### Applications of Darcy's Law\n",
    "1. **Groundwater Flow**: Used to model the movement of water through aquifers.\n",
    "2. **Petroleum Engineering**: Helps in understanding the flow of oil and gas through reservoir rocks.\n",
    "3. **Hydrology**: Assists in predicting the movement of water through soil and rock layers.\n",
    "4. **Chemical Engineering**: Applied in the design of packed bed reactors where fluids flow through a bed of solid particles.\n",
    "5. **Environmental Engineering**: Used in the study of contaminant transport through soil and groundwater.\n",
    "\n",
    "Understanding Darcy's Law is crucial for engineers and scientists working with fluid flow in porous materials, as it provides a foundational framework for analyzing and predicting fluid behavior in various applications."
   ]
  },
  {
   "cell_type": "markdown",
   "metadata": {},
   "source": [
    "## Turin patterns"
   ]
  },
  {
   "cell_type": "markdown",
   "metadata": {},
   "source": [
    "See diffusion equation and coupled models\n",
    "- stability analyse\n",
    "- phase diagrammes "
   ]
  },
  {
   "cell_type": "markdown",
   "metadata": {},
   "source": [
    "# Bacterial "
   ]
  },
  {
   "cell_type": "markdown",
   "metadata": {},
   "source": [
    "\n",
    "## Model for Bacterial Pattern Formation\n",
    "\n",
    "Bacterial pattern formation can be modeled using reaction-diffusion systems. These systems describe how the concentration of one or more substances distributed in space changes under the influence of two processes: local chemical reactions and diffusion.\n",
    "\n",
    "### Reaction-Diffusion Equations\n",
    "\n",
    "The general form of reaction-diffusion equations is:\n",
    "$$ \\frac{\\partial u}{\\partial t} = D_u \\nabla^2 u + f(u, v) $$\n",
    "$$ \\frac{\\partial v}{\\partial t} = D_v \\nabla^2 v + g(u, v) $$\n",
    "\n",
    "where:\n",
    "- \\( u \\) and \\( v \\) are the concentrations of the substances,\n",
    "- \\( D_u \\) and \\( D_v \\) are the diffusion coefficients,\n",
    "- \\( f(u, v) \\) and \\( g(u, v) \\) represent the local reaction kinetics.\n",
    "\n",
    "### Example: Turing Patterns\n",
    "\n",
    "Turing patterns arise when a stable homogeneous state becomes unstable due to diffusion-driven instability. This can be described by the following equations:\n",
    "$$ \\frac{\\partial u}{\\partial t} = D_u \\nabla^2 u + u(1 - u) - v $$\n",
    "$$ \\frac{\\partial v}{\\partial t} = D_v \\nabla^2 v + u - v $$\n",
    "\n",
    "These equations can produce a variety of spatial patterns depending on the parameters \\( D_u \\), \\( D_v \\), and the initial conditions.\n",
    "\n",
    "### Applications\n",
    "\n",
    "Understanding bacterial pattern formation has applications in:\n",
    "- Developmental biology\n",
    "- Ecology\n",
    "- Medical research \n",
    "\n",
    "By studying these models, researchers can gain insights into the mechanisms behind pattern formation in bacterial colonies and other biological systems."
   ]
  },
  {
   "cell_type": "markdown",
   "metadata": {},
   "source": []
  }
 ],
 "metadata": {
  "kernelspec": {
   "display_name": "base",
   "language": "python",
   "name": "python3"
  },
  "language_info": {
   "codemirror_mode": {
    "name": "ipython",
    "version": 3
   },
   "file_extension": ".py",
   "mimetype": "text/x-python",
   "name": "python",
   "nbconvert_exporter": "python",
   "pygments_lexer": "ipython3",
   "version": "3.11.5"
  }
 },
 "nbformat": 4,
 "nbformat_minor": 2
}
